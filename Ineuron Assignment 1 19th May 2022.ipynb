{
 "cells": [
  {
   "cell_type": "markdown",
   "id": "ddf3ce18",
   "metadata": {},
   "source": [
    "# Ineuron Assignment 1"
   ]
  },
  {
   "cell_type": "code",
   "execution_count": null,
   "id": "05c3b93a",
   "metadata": {},
   "outputs": [],
   "source": [
    "# Question 1 : In the below elements which of them are values or an expression? \n",
    "# eg:- values can be integer or string and expressions will be mathematical operators.\n",
    "\n",
    "# Ans 1:\n",
    "  \n",
    "# *  ---> is an expression.(An expression is a combination of operators and operands that is interpreted to produce some other value.)\n",
    "# 'hello' --> is a value.\n",
    "# -87.8 --> is a value.\n",
    "# -  --> is an expression.\n",
    "# /  --> is an expression.\n",
    "# +  --> is an expression.\n",
    "# 6  --> is an expression."
   ]
  },
  {
   "cell_type": "code",
   "execution_count": 2,
   "id": "6da478cf",
   "metadata": {},
   "outputs": [],
   "source": [
    "# Question 2 : What is the difference between string and variable?\n",
    "\n",
    "# Ans : The difference between string and variable are;\n",
    "# Variable : A variable is a name that can refer to any value, to store a value in a memory location.\n",
    "# Example : x = 10 , here x is a variable that stores the value 10.\n",
    "# Strinf : Anything you assign to a variable using quotes (single or double) will be considered as a string. \n",
    "#          The quotes are there to indicate that the text that they enclose is not code, it is a value.\n",
    "#          Thus, a string is one of several types of a variable.\n",
    "# Example : \n",
    "# a = \"10\" \n",
    "# b = \"20\" \n",
    "# print(a+b) , here a & b are strings. "
   ]
  },
  {
   "cell_type": "code",
   "execution_count": 3,
   "id": "2fd1d51a",
   "metadata": {},
   "outputs": [],
   "source": [
    "# Question 3: Describe three different data types.\n",
    "\n",
    "# Ans: Variables can store data of different types, and different types can do different things.\n",
    "# Integers – This value is represented by int class. \n",
    "#            It contains positive or negative whole numbers (without fraction or decimal). \n",
    "#            In Python there is no limit to how long an integer value can be.\n",
    "# example, pythan having type() funstion to know the datatype, Pleas"
   ]
  },
  {
   "cell_type": "code",
   "execution_count": 5,
   "id": "66893a69",
   "metadata": {},
   "outputs": [],
   "source": [
    "x = 20"
   ]
  },
  {
   "cell_type": "code",
   "execution_count": 6,
   "id": "e07d4831",
   "metadata": {},
   "outputs": [
    {
     "data": {
      "text/plain": [
       "int"
      ]
     },
     "execution_count": 6,
     "metadata": {},
     "output_type": "execute_result"
    }
   ],
   "source": [
    "type(x)"
   ]
  },
  {
   "cell_type": "code",
   "execution_count": 7,
   "id": "ceaa0e15",
   "metadata": {},
   "outputs": [],
   "source": [
    "# Float data type : This value is represented by float class. \n",
    "#                   It is a real number with floating point representation. It is specified by a decimal point"
   ]
  },
  {
   "cell_type": "code",
   "execution_count": 8,
   "id": "00915cf8",
   "metadata": {},
   "outputs": [],
   "source": [
    "x = 20.2"
   ]
  },
  {
   "cell_type": "code",
   "execution_count": 9,
   "id": "9ef98cef",
   "metadata": {},
   "outputs": [
    {
     "data": {
      "text/plain": [
       "float"
      ]
     },
     "execution_count": 9,
     "metadata": {},
     "output_type": "execute_result"
    }
   ],
   "source": [
    "type(x)"
   ]
  },
  {
   "cell_type": "code",
   "execution_count": 10,
   "id": "66d9ac83",
   "metadata": {},
   "outputs": [],
   "source": [
    "# Complex Numbers - Complex number is represented by complex class. It is specified as (real part) + (imaginary part)j."
   ]
  },
  {
   "cell_type": "code",
   "execution_count": 11,
   "id": "8ed535a0",
   "metadata": {},
   "outputs": [],
   "source": [
    "x = 4 + 3j"
   ]
  },
  {
   "cell_type": "code",
   "execution_count": 12,
   "id": "43faeb98",
   "metadata": {},
   "outputs": [
    {
     "data": {
      "text/plain": [
       "complex"
      ]
     },
     "execution_count": 12,
     "metadata": {},
     "output_type": "execute_result"
    }
   ],
   "source": [
    "type(x)"
   ]
  },
  {
   "cell_type": "code",
   "execution_count": 13,
   "id": "24fd67df",
   "metadata": {},
   "outputs": [],
   "source": [
    "# String :  A string is a collection of one or more characters put in a single quote, double-quote or triple quote."
   ]
  },
  {
   "cell_type": "code",
   "execution_count": 14,
   "id": "d1c21803",
   "metadata": {},
   "outputs": [],
   "source": [
    "x =  'ineuron'"
   ]
  },
  {
   "cell_type": "code",
   "execution_count": 15,
   "id": "bef1ed2c",
   "metadata": {},
   "outputs": [
    {
     "data": {
      "text/plain": [
       "str"
      ]
     },
     "execution_count": 15,
     "metadata": {},
     "output_type": "execute_result"
    }
   ],
   "source": [
    "type(x)"
   ]
  },
  {
   "cell_type": "code",
   "execution_count": 16,
   "id": "f52706ad",
   "metadata": {},
   "outputs": [],
   "source": [
    "# Question 4 : What is an expression made up of ? What do all expressions do?\n",
    "\n",
    "# Ans : An expression is a combination of operators and operands that is interpreted to produce some other value.\n",
    "# Example  :  s = 2 + 5, here 2 is an operator and '+'  is an operand. which output will 7.\n",
    "# There are different type of expression as;\n",
    "# i .   Constant Expressions\n",
    "# ii.   Arithmetic Expressions\n",
    "# iii.  Floating Expressions\n",
    "# iv.  Relational Expressions\n",
    "# v.   Logical Expressions \n",
    "\n",
    "# What do all expressions do? All the expression do a omathematical opeartiona and produce a result.\n",
    "\n"
   ]
  },
  {
   "cell_type": "code",
   "execution_count": 17,
   "id": "5ad621ac",
   "metadata": {},
   "outputs": [],
   "source": [
    "# Question 5 : This assignment statements, like spam = 10. What is the difference between an expression and a statement?"
   ]
  },
  {
   "cell_type": "code",
   "execution_count": 18,
   "id": "9e25e7ad",
   "metadata": {},
   "outputs": [],
   "source": [
    "# Answer : An Expression always evaluates to a value. and, \n",
    "# A statement does something, like creating a variable or displaying a value, it only does whatever the statement says.\n",
    "# Or we can say, If you can print it, or assign it to a variable, it’s an expression. If you can’t, it’s a statement.\n",
    "\n",
    "# Example of expression are; 2 + 2, 3 * 7, min(2, 22), \"ineuron\"\n",
    "# Exampel of statements are ; if CONDITION: ,  elif CONDITION"
   ]
  },
  {
   "cell_type": "code",
   "execution_count": 19,
   "id": "f1ec0845",
   "metadata": {},
   "outputs": [],
   "source": [
    "spam = 10"
   ]
  },
  {
   "cell_type": "code",
   "execution_count": 20,
   "id": "64239c31",
   "metadata": {},
   "outputs": [
    {
     "name": "stdout",
     "output_type": "stream",
     "text": [
      "10\n"
     ]
    }
   ],
   "source": [
    "print(spam)"
   ]
  },
  {
   "cell_type": "code",
   "execution_count": 21,
   "id": "d48424b3",
   "metadata": {},
   "outputs": [],
   "source": [
    "# Question 6:  After running the following code, what does the variable bacon contain?\n",
    "# bacon = 22\n",
    "# bacon + 1\n",
    "\n",
    "# Ans : Variable bacon contain value as 23."
   ]
  },
  {
   "cell_type": "code",
   "execution_count": 26,
   "id": "88e3550c",
   "metadata": {},
   "outputs": [
    {
     "data": {
      "text/plain": [
       "23"
      ]
     },
     "execution_count": 26,
     "metadata": {},
     "output_type": "execute_result"
    }
   ],
   "source": [
    "bacon = 22\n",
    "bacon + 1"
   ]
  },
  {
   "cell_type": "code",
   "execution_count": 28,
   "id": "318c7722",
   "metadata": {},
   "outputs": [],
   "source": [
    "# Question 7: What should the values of the following two terms be?\n",
    "# 'spam' + 'spamspam'\n",
    "# 'spam' * 3\n",
    "\n",
    "Ans : spamspamspam"
   ]
  },
  {
   "cell_type": "code",
   "execution_count": 29,
   "id": "75353b4d",
   "metadata": {},
   "outputs": [
    {
     "data": {
      "text/plain": [
       "'spamspamspam'"
      ]
     },
     "execution_count": 29,
     "metadata": {},
     "output_type": "execute_result"
    }
   ],
   "source": [
    "'spam' + 'spamspam'"
   ]
  },
  {
   "cell_type": "code",
   "execution_count": 30,
   "id": "4952ad60",
   "metadata": {},
   "outputs": [
    {
     "data": {
      "text/plain": [
       "'spamspamspam'"
      ]
     },
     "execution_count": 30,
     "metadata": {},
     "output_type": "execute_result"
    }
   ],
   "source": [
    "'spam' * 3"
   ]
  },
  {
   "cell_type": "code",
   "execution_count": 31,
   "id": "394bfb76",
   "metadata": {},
   "outputs": [],
   "source": [
    "# Question 8 : Why is eggs a valid variable name while 100 is invalid?\n",
    "\n",
    "# Ans : Because we can't start giving variable an integer name. \n",
    "#      if we, we should begin with, a string-like alphabet name then integer. i100 or e100 is valid"
   ]
  },
  {
   "cell_type": "code",
   "execution_count": 35,
   "id": "fa9e2a2e",
   "metadata": {},
   "outputs": [
    {
     "ename": "SyntaxError",
     "evalue": "cannot assign to literal (3376274972.py, line 1)",
     "output_type": "error",
     "traceback": [
      "\u001b[1;36m  Input \u001b[1;32mIn [35]\u001b[1;36m\u001b[0m\n\u001b[1;33m    100 = 'ineuron'\u001b[0m\n\u001b[1;37m    ^\u001b[0m\n\u001b[1;31mSyntaxError\u001b[0m\u001b[1;31m:\u001b[0m cannot assign to literal\n"
     ]
    }
   ],
   "source": [
    "100 = 'ineuron'"
   ]
  },
  {
   "cell_type": "code",
   "execution_count": 36,
   "id": "a8432148",
   "metadata": {},
   "outputs": [],
   "source": [
    " i100 = 'ineuron'"
   ]
  },
  {
   "cell_type": "code",
   "execution_count": 37,
   "id": "932a8e4c",
   "metadata": {},
   "outputs": [
    {
     "data": {
      "text/plain": [
       "'ineuron'"
      ]
     },
     "execution_count": 37,
     "metadata": {},
     "output_type": "execute_result"
    }
   ],
   "source": [
    "i100"
   ]
  },
  {
   "cell_type": "code",
   "execution_count": 38,
   "id": "ed2db23a",
   "metadata": {},
   "outputs": [],
   "source": [
    "# Question 9: What three functions can be used to get the integer, floating-point number, or string version of a value?\n",
    "\n",
    "# Ans : str(), int(), float()"
   ]
  },
  {
   "cell_type": "code",
   "execution_count": 39,
   "id": "a96f7eee",
   "metadata": {},
   "outputs": [],
   "source": [
    " a = 10    "
   ]
  },
  {
   "cell_type": "code",
   "execution_count": 40,
   "id": "afb22aff",
   "metadata": {},
   "outputs": [
    {
     "data": {
      "text/plain": [
       "int"
      ]
     },
     "execution_count": 40,
     "metadata": {},
     "output_type": "execute_result"
    }
   ],
   "source": [
    "type(a)"
   ]
  },
  {
   "cell_type": "code",
   "execution_count": 41,
   "id": "a8c7ba57",
   "metadata": {},
   "outputs": [],
   "source": [
    "a = 10.2"
   ]
  },
  {
   "cell_type": "code",
   "execution_count": 42,
   "id": "8918a550",
   "metadata": {},
   "outputs": [
    {
     "data": {
      "text/plain": [
       "float"
      ]
     },
     "execution_count": 42,
     "metadata": {},
     "output_type": "execute_result"
    }
   ],
   "source": [
    "type(a)"
   ]
  },
  {
   "cell_type": "code",
   "execution_count": 43,
   "id": "379df941",
   "metadata": {},
   "outputs": [],
   "source": [
    "a = 'ineuron'"
   ]
  },
  {
   "cell_type": "code",
   "execution_count": 44,
   "id": "171589da",
   "metadata": {},
   "outputs": [
    {
     "data": {
      "text/plain": [
       "str"
      ]
     },
     "execution_count": 44,
     "metadata": {},
     "output_type": "execute_result"
    }
   ],
   "source": [
    "type(a)"
   ]
  },
  {
   "cell_type": "code",
   "execution_count": 45,
   "id": "ce0b74db",
   "metadata": {},
   "outputs": [],
   "source": [
    "# Question 10 : Why does this expression cause an error? How can you fix it?\n",
    "#'I have eaten' + 99 + 'burritos' \n",
    "\n",
    "# Ans: It will show error, because 99 is an integer it cannot be concatenated with strings.\n",
    "#      If we have to concatenate it we need to do typecasting."
   ]
  },
  {
   "cell_type": "code",
   "execution_count": 46,
   "id": "3a02b6b9",
   "metadata": {},
   "outputs": [
    {
     "ename": "TypeError",
     "evalue": "can only concatenate str (not \"int\") to str",
     "output_type": "error",
     "traceback": [
      "\u001b[1;31m---------------------------------------------------------------------------\u001b[0m",
      "\u001b[1;31mTypeError\u001b[0m                                 Traceback (most recent call last)",
      "Input \u001b[1;32mIn [46]\u001b[0m, in \u001b[0;36m<cell line: 1>\u001b[1;34m()\u001b[0m\n\u001b[1;32m----> 1\u001b[0m a \u001b[38;5;241m=\u001b[39m \u001b[38;5;124;43m'\u001b[39;49m\u001b[38;5;124;43mI have eaten\u001b[39;49m\u001b[38;5;124;43m'\u001b[39;49m\u001b[43m \u001b[49m\u001b[38;5;241;43m+\u001b[39;49m\u001b[43m \u001b[49m\u001b[38;5;241;43m99\u001b[39;49m \u001b[38;5;241m+\u001b[39m \u001b[38;5;124m'\u001b[39m\u001b[38;5;124mburritos\u001b[39m\u001b[38;5;124m'\u001b[39m\n",
      "\u001b[1;31mTypeError\u001b[0m: can only concatenate str (not \"int\") to str"
     ]
    }
   ],
   "source": [
    "a = 'I have eaten' + 99 + 'burritos' "
   ]
  },
  {
   "cell_type": "code",
   "execution_count": 51,
   "id": "293d8244",
   "metadata": {},
   "outputs": [],
   "source": [
    " a = 'I have eaten' + ' ' + str(99) +  ' '  +'burritos' "
   ]
  },
  {
   "cell_type": "code",
   "execution_count": 52,
   "id": "479723bc",
   "metadata": {},
   "outputs": [
    {
     "data": {
      "text/plain": [
       "'I have eaten 99 burritos'"
      ]
     },
     "execution_count": 52,
     "metadata": {},
     "output_type": "execute_result"
    }
   ],
   "source": [
    "a"
   ]
  }
 ],
 "metadata": {
  "kernelspec": {
   "display_name": "Python 3 (ipykernel)",
   "language": "python",
   "name": "python3"
  },
  "language_info": {
   "codemirror_mode": {
    "name": "ipython",
    "version": 3
   },
   "file_extension": ".py",
   "mimetype": "text/x-python",
   "name": "python",
   "nbconvert_exporter": "python",
   "pygments_lexer": "ipython3",
   "version": "3.9.12"
  }
 },
 "nbformat": 4,
 "nbformat_minor": 5
}
